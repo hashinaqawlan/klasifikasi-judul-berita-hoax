{
  "nbformat": 4,
  "nbformat_minor": 0,
  "metadata": {
    "colab": {
      "provenance": [],
      "collapsed_sections": [
        "ZKFuo12dd-4n",
        "sdbdWhUeSfkk",
        "UTuymqvFv6Af"
      ]
    },
    "kernelspec": {
      "name": "python3",
      "display_name": "Python 3"
    },
    "language_info": {
      "name": "python"
    },
    "accelerator": "GPU"
  },
  "cells": [
    {
      "cell_type": "code",
      "source": [
        "pip install scikit-learn==0.24.2"
      ],
      "metadata": {
        "colab": {
          "base_uri": "https://localhost:8080/"
        },
        "id": "lJBrhbQDCoXD",
        "outputId": "b612c6ba-1482-45e0-c861-5592b43beba5"
      },
      "execution_count": null,
      "outputs": [
        {
          "output_type": "stream",
          "name": "stdout",
          "text": [
            "Looking in indexes: https://pypi.org/simple, https://us-python.pkg.dev/colab-wheels/public/simple/\n",
            "Collecting scikit-learn==0.24.2\n",
            "  Downloading scikit_learn-0.24.2-cp37-cp37m-manylinux2010_x86_64.whl (22.3 MB)\n",
            "\u001b[K     |████████████████████████████████| 22.3 MB 1.3 MB/s \n",
            "\u001b[?25hRequirement already satisfied: threadpoolctl>=2.0.0 in /usr/local/lib/python3.7/dist-packages (from scikit-learn==0.24.2) (3.1.0)\n",
            "Requirement already satisfied: scipy>=0.19.1 in /usr/local/lib/python3.7/dist-packages (from scikit-learn==0.24.2) (1.7.3)\n",
            "Requirement already satisfied: joblib>=0.11 in /usr/local/lib/python3.7/dist-packages (from scikit-learn==0.24.2) (1.2.0)\n",
            "Requirement already satisfied: numpy>=1.13.3 in /usr/local/lib/python3.7/dist-packages (from scikit-learn==0.24.2) (1.21.6)\n",
            "Installing collected packages: scikit-learn\n",
            "  Attempting uninstall: scikit-learn\n",
            "    Found existing installation: scikit-learn 1.0.2\n",
            "    Uninstalling scikit-learn-1.0.2:\n",
            "      Successfully uninstalled scikit-learn-1.0.2\n",
            "\u001b[31mERROR: pip's dependency resolver does not currently take into account all the packages that are installed. This behaviour is the source of the following dependency conflicts.\n",
            "yellowbrick 1.5 requires scikit-learn>=1.0.0, but you have scikit-learn 0.24.2 which is incompatible.\u001b[0m\n",
            "Successfully installed scikit-learn-0.24.2\n"
          ]
        }
      ]
    },
    {
      "cell_type": "code",
      "execution_count": null,
      "metadata": {
        "id": "A_TzaoEeQ2ga"
      },
      "outputs": [],
      "source": [
        "import numpy as np\n",
        "import pandas as pd\n",
        "import matplotlib.pyplot as plt\n",
        "import seaborn as sns\n",
        "import nltk\n",
        "import re"
      ]
    },
    {
      "cell_type": "code",
      "source": [
        "from google.colab import drive\n",
        "drive.mount('/content/drive')"
      ],
      "metadata": {
        "colab": {
          "base_uri": "https://localhost:8080/"
        },
        "id": "7awWQjZmRqyF",
        "outputId": "a62a84a8-3314-4887-fbe2-de0a582fbee9"
      },
      "execution_count": null,
      "outputs": [
        {
          "output_type": "stream",
          "name": "stdout",
          "text": [
            "Mounted at /content/drive\n"
          ]
        }
      ]
    },
    {
      "cell_type": "markdown",
      "source": [
        "## LOAD DATA HASIL PREPROCESS"
      ],
      "metadata": {
        "id": "ZKFuo12dd-4n"
      }
    },
    {
      "cell_type": "code",
      "source": [
        "df = pd.read_csv('/content/drive/MyDrive/berita_bersih.csv')\n",
        "df.head()"
      ],
      "metadata": {
        "id": "ahXcaiiveC3H",
        "colab": {
          "base_uri": "https://localhost:8080/"
        },
        "outputId": "b6a8bf2b-c3cb-4eed-9178-ec68ad126dc9"
      },
      "execution_count": null,
      "outputs": [
        {
          "output_type": "execute_result",
          "data": {
            "text/plain": [
              "                                               Judul  class\n",
              "0  jaring nusantara ahy milik modal kuat pimpin b...      0\n",
              "1  amat rusia apresiasi niat indonesia bawa misi ...      0\n",
              "2  misi damai jokowi ukraina rusia pakar pintu di...      0\n",
              "3  jokowi temu putin bawa misi damai rusiaukraina...      0\n",
              "4  krisis pangan dunia akibat sanksi eropa salah ...      0"
            ],
            "text/html": [
              "\n",
              "  <div id=\"df-53523a06-fc64-407b-a168-971a19788a0c\">\n",
              "    <div class=\"colab-df-container\">\n",
              "      <div>\n",
              "<style scoped>\n",
              "    .dataframe tbody tr th:only-of-type {\n",
              "        vertical-align: middle;\n",
              "    }\n",
              "\n",
              "    .dataframe tbody tr th {\n",
              "        vertical-align: top;\n",
              "    }\n",
              "\n",
              "    .dataframe thead th {\n",
              "        text-align: right;\n",
              "    }\n",
              "</style>\n",
              "<table border=\"1\" class=\"dataframe\">\n",
              "  <thead>\n",
              "    <tr style=\"text-align: right;\">\n",
              "      <th></th>\n",
              "      <th>Judul</th>\n",
              "      <th>class</th>\n",
              "    </tr>\n",
              "  </thead>\n",
              "  <tbody>\n",
              "    <tr>\n",
              "      <th>0</th>\n",
              "      <td>jaring nusantara ahy milik modal kuat pimpin b...</td>\n",
              "      <td>0</td>\n",
              "    </tr>\n",
              "    <tr>\n",
              "      <th>1</th>\n",
              "      <td>amat rusia apresiasi niat indonesia bawa misi ...</td>\n",
              "      <td>0</td>\n",
              "    </tr>\n",
              "    <tr>\n",
              "      <th>2</th>\n",
              "      <td>misi damai jokowi ukraina rusia pakar pintu di...</td>\n",
              "      <td>0</td>\n",
              "    </tr>\n",
              "    <tr>\n",
              "      <th>3</th>\n",
              "      <td>jokowi temu putin bawa misi damai rusiaukraina...</td>\n",
              "      <td>0</td>\n",
              "    </tr>\n",
              "    <tr>\n",
              "      <th>4</th>\n",
              "      <td>krisis pangan dunia akibat sanksi eropa salah ...</td>\n",
              "      <td>0</td>\n",
              "    </tr>\n",
              "  </tbody>\n",
              "</table>\n",
              "</div>\n",
              "      <button class=\"colab-df-convert\" onclick=\"convertToInteractive('df-53523a06-fc64-407b-a168-971a19788a0c')\"\n",
              "              title=\"Convert this dataframe to an interactive table.\"\n",
              "              style=\"display:none;\">\n",
              "        \n",
              "  <svg xmlns=\"http://www.w3.org/2000/svg\" height=\"24px\"viewBox=\"0 0 24 24\"\n",
              "       width=\"24px\">\n",
              "    <path d=\"M0 0h24v24H0V0z\" fill=\"none\"/>\n",
              "    <path d=\"M18.56 5.44l.94 2.06.94-2.06 2.06-.94-2.06-.94-.94-2.06-.94 2.06-2.06.94zm-11 1L8.5 8.5l.94-2.06 2.06-.94-2.06-.94L8.5 2.5l-.94 2.06-2.06.94zm10 10l.94 2.06.94-2.06 2.06-.94-2.06-.94-.94-2.06-.94 2.06-2.06.94z\"/><path d=\"M17.41 7.96l-1.37-1.37c-.4-.4-.92-.59-1.43-.59-.52 0-1.04.2-1.43.59L10.3 9.45l-7.72 7.72c-.78.78-.78 2.05 0 2.83L4 21.41c.39.39.9.59 1.41.59.51 0 1.02-.2 1.41-.59l7.78-7.78 2.81-2.81c.8-.78.8-2.07 0-2.86zM5.41 20L4 18.59l7.72-7.72 1.47 1.35L5.41 20z\"/>\n",
              "  </svg>\n",
              "      </button>\n",
              "      \n",
              "  <style>\n",
              "    .colab-df-container {\n",
              "      display:flex;\n",
              "      flex-wrap:wrap;\n",
              "      gap: 12px;\n",
              "    }\n",
              "\n",
              "    .colab-df-convert {\n",
              "      background-color: #E8F0FE;\n",
              "      border: none;\n",
              "      border-radius: 50%;\n",
              "      cursor: pointer;\n",
              "      display: none;\n",
              "      fill: #1967D2;\n",
              "      height: 32px;\n",
              "      padding: 0 0 0 0;\n",
              "      width: 32px;\n",
              "    }\n",
              "\n",
              "    .colab-df-convert:hover {\n",
              "      background-color: #E2EBFA;\n",
              "      box-shadow: 0px 1px 2px rgba(60, 64, 67, 0.3), 0px 1px 3px 1px rgba(60, 64, 67, 0.15);\n",
              "      fill: #174EA6;\n",
              "    }\n",
              "\n",
              "    [theme=dark] .colab-df-convert {\n",
              "      background-color: #3B4455;\n",
              "      fill: #D2E3FC;\n",
              "    }\n",
              "\n",
              "    [theme=dark] .colab-df-convert:hover {\n",
              "      background-color: #434B5C;\n",
              "      box-shadow: 0px 1px 3px 1px rgba(0, 0, 0, 0.15);\n",
              "      filter: drop-shadow(0px 1px 2px rgba(0, 0, 0, 0.3));\n",
              "      fill: #FFFFFF;\n",
              "    }\n",
              "  </style>\n",
              "\n",
              "      <script>\n",
              "        const buttonEl =\n",
              "          document.querySelector('#df-53523a06-fc64-407b-a168-971a19788a0c button.colab-df-convert');\n",
              "        buttonEl.style.display =\n",
              "          google.colab.kernel.accessAllowed ? 'block' : 'none';\n",
              "\n",
              "        async function convertToInteractive(key) {\n",
              "          const element = document.querySelector('#df-53523a06-fc64-407b-a168-971a19788a0c');\n",
              "          const dataTable =\n",
              "            await google.colab.kernel.invokeFunction('convertToInteractive',\n",
              "                                                     [key], {});\n",
              "          if (!dataTable) return;\n",
              "\n",
              "          const docLinkHtml = 'Like what you see? Visit the ' +\n",
              "            '<a target=\"_blank\" href=https://colab.research.google.com/notebooks/data_table.ipynb>data table notebook</a>'\n",
              "            + ' to learn more about interactive tables.';\n",
              "          element.innerHTML = '';\n",
              "          dataTable['output_type'] = 'display_data';\n",
              "          await google.colab.output.renderOutput(dataTable, element);\n",
              "          const docLink = document.createElement('div');\n",
              "          docLink.innerHTML = docLinkHtml;\n",
              "          element.appendChild(docLink);\n",
              "        }\n",
              "      </script>\n",
              "    </div>\n",
              "  </div>\n",
              "  "
            ]
          },
          "metadata": {},
          "execution_count": 3
        }
      ]
    },
    {
      "cell_type": "markdown",
      "source": [
        "## VEKTORISASI"
      ],
      "metadata": {
        "id": "sdbdWhUeSfkk"
      }
    },
    {
      "cell_type": "code",
      "source": [
        "from sklearn.model_selection import train_test_split\n",
        "X_train, X_test , y_train, y_test = train_test_split(df['Judul'].values,df['class'].values,test_size=0.2,random_state=42,stratify=df['class'].values)"
      ],
      "metadata": {
        "id": "_PqW2N6YSlQC"
      },
      "execution_count": null,
      "outputs": []
    },
    {
      "cell_type": "code",
      "source": [
        "from sklearn.feature_extraction.text import CountVectorizer\n",
        "from sklearn.feature_extraction.text import TfidfVectorizer"
      ],
      "metadata": {
        "id": "YOnowH6TSbCg"
      },
      "execution_count": null,
      "outputs": []
    },
    {
      "cell_type": "code",
      "source": [
        "tfidf_vectorizer = TfidfVectorizer()\n",
        "tfidf_train_text = tfidf_vectorizer.fit_transform(X_train)\n",
        "tfidf_test_text = tfidf_vectorizer.transform(X_test)"
      ],
      "metadata": {
        "id": "EAePoPwRSjit"
      },
      "execution_count": null,
      "outputs": []
    },
    {
      "cell_type": "code",
      "source": [
        "vectorizer = TfidfVectorizer()\n",
        "X = vectorizer.fit_transform(X_train)"
      ],
      "metadata": {
        "id": "e4hYhyA4QR9z"
      },
      "execution_count": null,
      "outputs": []
    },
    {
      "cell_type": "code",
      "source": [
        "feature_names = vectorizer.get_feature_names()"
      ],
      "metadata": {
        "colab": {
          "base_uri": "https://localhost:8080/"
        },
        "id": "T2_BPH9WRe_R",
        "outputId": "c0b50ff6-6fb2-4e73-d49f-83cf614eb9de"
      },
      "execution_count": null,
      "outputs": [
        {
          "output_type": "stream",
          "name": "stderr",
          "text": [
            "/usr/local/lib/python3.7/dist-packages/sklearn/utils/deprecation.py:87: FutureWarning: Function get_feature_names is deprecated; get_feature_names is deprecated in 1.0 and will be removed in 1.2. Please use get_feature_names_out instead.\n",
            "  warnings.warn(msg, category=FutureWarning)\n"
          ]
        }
      ]
    },
    {
      "cell_type": "code",
      "source": [
        "def tf_idf(text):\n",
        "  tfidf_matrix = vectorizer.transform([text]).todense()\n",
        "  feature_index = X[0,:].nonzero()[1]\n",
        "  skor = zip([feature_names[i] for i in feature_index], [X[0,X] for X in feature_index])\n",
        "  return dict(skor)"
      ],
      "metadata": {
        "id": "V6ADWrnXQeZL"
      },
      "execution_count": null,
      "outputs": []
    },
    {
      "cell_type": "code",
      "source": [],
      "metadata": {
        "id": "6M5NGFtgRv3R"
      },
      "execution_count": null,
      "outputs": []
    },
    {
      "cell_type": "code",
      "source": [
        "tf_idf(X_train[0])"
      ],
      "metadata": {
        "colab": {
          "base_uri": "https://localhost:8080/",
          "height": 312
        },
        "id": "ThCSxx_ZPHt9",
        "outputId": "78ef0807-5175-4241-e6fa-6e7385c370d8"
      },
      "execution_count": null,
      "outputs": [
        {
          "output_type": "error",
          "ename": "IndexError",
          "evalue": "ignored",
          "traceback": [
            "\u001b[0;31m---------------------------------------------------------------------------\u001b[0m",
            "\u001b[0;31mIndexError\u001b[0m                                Traceback (most recent call last)",
            "\u001b[0;32m<ipython-input-26-fc7fafddf992>\u001b[0m in \u001b[0;36m<module>\u001b[0;34m\u001b[0m\n\u001b[0;32m----> 1\u001b[0;31m \u001b[0mtf_idf\u001b[0m\u001b[0;34m(\u001b[0m\u001b[0mX_train\u001b[0m\u001b[0;34m[\u001b[0m\u001b[0;36m0\u001b[0m\u001b[0;34m]\u001b[0m\u001b[0;34m)\u001b[0m\u001b[0;34m\u001b[0m\u001b[0;34m\u001b[0m\u001b[0m\n\u001b[0m",
            "\u001b[0;32m<ipython-input-23-dd826a37eedb>\u001b[0m in \u001b[0;36mtf_idf\u001b[0;34m(text)\u001b[0m\n\u001b[1;32m      2\u001b[0m   \u001b[0mtfidf_matrix\u001b[0m \u001b[0;34m=\u001b[0m \u001b[0mvectorizer\u001b[0m\u001b[0;34m.\u001b[0m\u001b[0mtransform\u001b[0m\u001b[0;34m(\u001b[0m\u001b[0;34m[\u001b[0m\u001b[0mtext\u001b[0m\u001b[0;34m]\u001b[0m\u001b[0;34m)\u001b[0m\u001b[0;34m.\u001b[0m\u001b[0mtodense\u001b[0m\u001b[0;34m(\u001b[0m\u001b[0;34m)\u001b[0m\u001b[0;34m\u001b[0m\u001b[0;34m\u001b[0m\u001b[0m\n\u001b[1;32m      3\u001b[0m   \u001b[0mfeature_index\u001b[0m \u001b[0;34m=\u001b[0m \u001b[0mX\u001b[0m\u001b[0;34m[\u001b[0m\u001b[0;36m0\u001b[0m\u001b[0;34m,\u001b[0m\u001b[0;34m:\u001b[0m\u001b[0;34m]\u001b[0m\u001b[0;34m.\u001b[0m\u001b[0mnonzero\u001b[0m\u001b[0;34m(\u001b[0m\u001b[0;34m)\u001b[0m\u001b[0;34m[\u001b[0m\u001b[0;36m1\u001b[0m\u001b[0;34m]\u001b[0m\u001b[0;34m\u001b[0m\u001b[0;34m\u001b[0m\u001b[0m\n\u001b[0;32m----> 4\u001b[0;31m   \u001b[0mskor\u001b[0m \u001b[0;34m=\u001b[0m \u001b[0mzip\u001b[0m\u001b[0;34m(\u001b[0m\u001b[0;34m[\u001b[0m\u001b[0mfeature_names\u001b[0m\u001b[0;34m[\u001b[0m\u001b[0mi\u001b[0m\u001b[0;34m]\u001b[0m \u001b[0;32mfor\u001b[0m \u001b[0mi\u001b[0m \u001b[0;32min\u001b[0m \u001b[0mfeature_index\u001b[0m\u001b[0;34m]\u001b[0m\u001b[0;34m,\u001b[0m \u001b[0;34m[\u001b[0m\u001b[0mX\u001b[0m\u001b[0;34m[\u001b[0m\u001b[0;36m0\u001b[0m\u001b[0;34m,\u001b[0m\u001b[0mX\u001b[0m\u001b[0;34m]\u001b[0m \u001b[0;32mfor\u001b[0m \u001b[0mX\u001b[0m \u001b[0;32min\u001b[0m \u001b[0mfeature_index\u001b[0m\u001b[0;34m]\u001b[0m\u001b[0;34m)\u001b[0m\u001b[0;34m\u001b[0m\u001b[0;34m\u001b[0m\u001b[0m\n\u001b[0m\u001b[1;32m      5\u001b[0m   \u001b[0;32mreturn\u001b[0m \u001b[0mdict\u001b[0m\u001b[0;34m(\u001b[0m\u001b[0mskor\u001b[0m\u001b[0;34m)\u001b[0m\u001b[0;34m\u001b[0m\u001b[0;34m\u001b[0m\u001b[0m\n",
            "\u001b[0;32m<ipython-input-23-dd826a37eedb>\u001b[0m in \u001b[0;36m<listcomp>\u001b[0;34m(.0)\u001b[0m\n\u001b[1;32m      2\u001b[0m   \u001b[0mtfidf_matrix\u001b[0m \u001b[0;34m=\u001b[0m \u001b[0mvectorizer\u001b[0m\u001b[0;34m.\u001b[0m\u001b[0mtransform\u001b[0m\u001b[0;34m(\u001b[0m\u001b[0;34m[\u001b[0m\u001b[0mtext\u001b[0m\u001b[0;34m]\u001b[0m\u001b[0;34m)\u001b[0m\u001b[0;34m.\u001b[0m\u001b[0mtodense\u001b[0m\u001b[0;34m(\u001b[0m\u001b[0;34m)\u001b[0m\u001b[0;34m\u001b[0m\u001b[0;34m\u001b[0m\u001b[0m\n\u001b[1;32m      3\u001b[0m   \u001b[0mfeature_index\u001b[0m \u001b[0;34m=\u001b[0m \u001b[0mX\u001b[0m\u001b[0;34m[\u001b[0m\u001b[0;36m0\u001b[0m\u001b[0;34m,\u001b[0m\u001b[0;34m:\u001b[0m\u001b[0;34m]\u001b[0m\u001b[0;34m.\u001b[0m\u001b[0mnonzero\u001b[0m\u001b[0;34m(\u001b[0m\u001b[0;34m)\u001b[0m\u001b[0;34m[\u001b[0m\u001b[0;36m1\u001b[0m\u001b[0;34m]\u001b[0m\u001b[0;34m\u001b[0m\u001b[0;34m\u001b[0m\u001b[0m\n\u001b[0;32m----> 4\u001b[0;31m   \u001b[0mskor\u001b[0m \u001b[0;34m=\u001b[0m \u001b[0mzip\u001b[0m\u001b[0;34m(\u001b[0m\u001b[0;34m[\u001b[0m\u001b[0mfeature_names\u001b[0m\u001b[0;34m[\u001b[0m\u001b[0mi\u001b[0m\u001b[0;34m]\u001b[0m \u001b[0;32mfor\u001b[0m \u001b[0mi\u001b[0m \u001b[0;32min\u001b[0m \u001b[0mfeature_index\u001b[0m\u001b[0;34m]\u001b[0m\u001b[0;34m,\u001b[0m \u001b[0;34m[\u001b[0m\u001b[0mX\u001b[0m\u001b[0;34m[\u001b[0m\u001b[0;36m0\u001b[0m\u001b[0;34m,\u001b[0m\u001b[0mX\u001b[0m\u001b[0;34m]\u001b[0m \u001b[0;32mfor\u001b[0m \u001b[0mX\u001b[0m \u001b[0;32min\u001b[0m \u001b[0mfeature_index\u001b[0m\u001b[0;34m]\u001b[0m\u001b[0;34m)\u001b[0m\u001b[0;34m\u001b[0m\u001b[0;34m\u001b[0m\u001b[0m\n\u001b[0m\u001b[1;32m      5\u001b[0m   \u001b[0;32mreturn\u001b[0m \u001b[0mdict\u001b[0m\u001b[0;34m(\u001b[0m\u001b[0mskor\u001b[0m\u001b[0;34m)\u001b[0m\u001b[0;34m\u001b[0m\u001b[0;34m\u001b[0m\u001b[0m\n",
            "\u001b[0;31mIndexError\u001b[0m: invalid index to scalar variable."
          ]
        }
      ]
    },
    {
      "cell_type": "code",
      "source": [
        "print()"
      ],
      "metadata": {
        "colab": {
          "base_uri": "https://localhost:8080/"
        },
        "id": "BCWvSzpwPpFw",
        "outputId": "aa6eb4f7-7960-47dc-ff3d-e6023bf7c652"
      },
      "execution_count": null,
      "outputs": [
        {
          "output_type": "stream",
          "name": "stdout",
          "text": [
            "  (0, 4743)\t0.3798321897703393\n",
            "  (0, 468)\t0.3665229977494949\n",
            "  (0, 3094)\t0.42606713387010575\n",
            "  (0, 2075)\t0.23784480383041037\n",
            "  (0, 1868)\t0.31236759424655675\n",
            "  (0, 1017)\t0.3296284432048209\n",
            "  (0, 143)\t0.5263616835946213\n",
            "  (1, 3321)\t0.3524517194728389\n",
            "  (1, 5335)\t0.3210713966066299\n",
            "  (1, 385)\t0.42165592782644506\n",
            "  (1, 5667)\t0.42165592782644506\n",
            "  (1, 3888)\t0.33655441874263387\n",
            "  (1, 4459)\t0.42165592782644506\n",
            "  (1, 5534)\t0.25023031098210496\n",
            "  (1, 5785)\t0.1646915411397221\n",
            "  (1, 2075)\t0.1905318615764746\n",
            "  (2, 4937)\t0.40655596056128673\n",
            "  (2, 5661)\t0.38244586727251045\n",
            "  (2, 4769)\t0.38244586727251045\n",
            "  (2, 747)\t0.47814756252399915\n",
            "  (2, 1049)\t0.39095504505596307\n",
            "  (2, 3771)\t0.4008885497767333\n",
            "  (3, 627)\t0.5547484121473784\n",
            "  (3, 4837)\t0.6200874119347409\n",
            "  (3, 3136)\t0.5547484121473784\n",
            "  :\t:\n",
            "  (3423, 1097)\t0.2974476242477417\n",
            "  (3423, 1900)\t0.2483681081520117\n",
            "  (3423, 80)\t0.23764569221584572\n",
            "  (3424, 4036)\t0.5837449464391423\n",
            "  (3424, 3989)\t0.4106758105255666\n",
            "  (3424, 1758)\t0.5164330691518921\n",
            "  (3424, 2309)\t0.2649103880475627\n",
            "  (3424, 4024)\t0.39205431708728644\n",
            "  (3425, 2752)\t0.5547750949076897\n",
            "  (3425, 3645)\t0.49631809495810447\n",
            "  (3425, 84)\t0.3081817937729589\n",
            "  (3425, 4193)\t0.2738474362148954\n",
            "  (3425, 1706)\t0.37781342479170754\n",
            "  (3425, 1017)\t0.3649404367837206\n",
            "  (3426, 4341)\t0.3844728562512728\n",
            "  (3426, 5453)\t0.35292208476387327\n",
            "  (3426, 1253)\t0.3213713132764738\n",
            "  (3426, 5430)\t0.31121423351930877\n",
            "  (3426, 3057)\t0.35292208476387327\n",
            "  (3426, 3413)\t0.27744262443245615\n",
            "  (3426, 1080)\t0.31121423351930877\n",
            "  (3426, 2309)\t0.15178467244228533\n",
            "  (3426, 3894)\t0.211709242044938\n",
            "  (3426, 3263)\t0.2407720641729344\n",
            "  (3426, 3321)\t0.3213713132764738\n"
          ]
        }
      ]
    },
    {
      "cell_type": "code",
      "source": [
        "from sklearn.svm import SVC\n",
        "from sklearn.metrics import classification_report"
      ],
      "metadata": {
        "id": "gAmUMIi_Sndu"
      },
      "execution_count": null,
      "outputs": []
    },
    {
      "cell_type": "code",
      "source": [
        "from sklearn.model_selection import GridSearchCV"
      ],
      "metadata": {
        "id": "NkgGrHZA3A8d"
      },
      "execution_count": null,
      "outputs": []
    },
    {
      "cell_type": "markdown",
      "source": [
        "## GRID 1"
      ],
      "metadata": {
        "id": "UTuymqvFv6Af"
      }
    },
    {
      "cell_type": "code",
      "source": [
        "param_grid = {'C': [0.1, 1, 10],'kernel': ['linear']}"
      ],
      "metadata": {
        "id": "AXimskR2it_X"
      },
      "execution_count": null,
      "outputs": []
    },
    {
      "cell_type": "code",
      "source": [
        "grid = GridSearchCV(SVC(),param_grid,refit=True,cv =10, verbose=3)\n",
        "grid.fit(tfidf_train_text,y_train)"
      ],
      "metadata": {
        "colab": {
          "base_uri": "https://localhost:8080/"
        },
        "id": "CKtbn5RS94t5",
        "outputId": "8dff83cc-ec12-4063-c967-c8e1a91fb7be"
      },
      "execution_count": null,
      "outputs": [
        {
          "output_type": "stream",
          "name": "stdout",
          "text": [
            "Fitting 10 folds for each of 3 candidates, totalling 30 fits\n",
            "[CV 1/10] END .............C=0.1, kernel=linear;, score=0.828 total time=   0.9s\n",
            "[CV 2/10] END .............C=0.1, kernel=linear;, score=0.805 total time=   0.9s\n",
            "[CV 3/10] END .............C=0.1, kernel=linear;, score=0.848 total time=   0.9s\n",
            "[CV 4/10] END .............C=0.1, kernel=linear;, score=0.813 total time=   0.9s\n",
            "[CV 5/10] END .............C=0.1, kernel=linear;, score=0.860 total time=   0.9s\n",
            "[CV 6/10] END .............C=0.1, kernel=linear;, score=0.773 total time=   0.9s\n",
            "[CV 7/10] END .............C=0.1, kernel=linear;, score=0.825 total time=   0.9s\n",
            "[CV 8/10] END .............C=0.1, kernel=linear;, score=0.804 total time=   0.9s\n",
            "[CV 9/10] END .............C=0.1, kernel=linear;, score=0.827 total time=   0.9s\n",
            "[CV 10/10] END ............C=0.1, kernel=linear;, score=0.813 total time=   0.9s\n",
            "[CV 1/10] END ...............C=1, kernel=linear;, score=0.872 total time=   0.7s\n",
            "[CV 2/10] END ...............C=1, kernel=linear;, score=0.875 total time=   0.7s\n",
            "[CV 3/10] END ...............C=1, kernel=linear;, score=0.880 total time=   0.7s\n",
            "[CV 4/10] END ...............C=1, kernel=linear;, score=0.895 total time=   0.7s\n",
            "[CV 5/10] END ...............C=1, kernel=linear;, score=0.892 total time=   0.7s\n",
            "[CV 6/10] END ...............C=1, kernel=linear;, score=0.886 total time=   0.7s\n",
            "[CV 7/10] END ...............C=1, kernel=linear;, score=0.886 total time=   0.7s\n",
            "[CV 8/10] END ...............C=1, kernel=linear;, score=0.877 total time=   0.7s\n",
            "[CV 9/10] END ...............C=1, kernel=linear;, score=0.895 total time=   0.7s\n",
            "[CV 10/10] END ..............C=1, kernel=linear;, score=0.848 total time=   0.7s\n",
            "[CV 1/10] END ..............C=10, kernel=linear;, score=0.845 total time=   0.9s\n",
            "[CV 2/10] END ..............C=10, kernel=linear;, score=0.866 total time=   1.0s\n",
            "[CV 3/10] END ..............C=10, kernel=linear;, score=0.869 total time=   0.9s\n",
            "[CV 4/10] END ..............C=10, kernel=linear;, score=0.878 total time=   0.9s\n",
            "[CV 5/10] END ..............C=10, kernel=linear;, score=0.869 total time=   0.8s\n",
            "[CV 6/10] END ..............C=10, kernel=linear;, score=0.848 total time=   0.8s\n",
            "[CV 7/10] END ..............C=10, kernel=linear;, score=0.857 total time=   0.8s\n",
            "[CV 8/10] END ..............C=10, kernel=linear;, score=0.868 total time=   0.9s\n",
            "[CV 9/10] END ..............C=10, kernel=linear;, score=0.839 total time=   0.9s\n",
            "[CV 10/10] END .............C=10, kernel=linear;, score=0.857 total time=   0.8s\n"
          ]
        },
        {
          "output_type": "execute_result",
          "data": {
            "text/plain": [
              "GridSearchCV(cv=10, estimator=SVC(),\n",
              "             param_grid={'C': [0.1, 1, 10], 'kernel': ['linear']}, verbose=3)"
            ]
          },
          "metadata": {},
          "execution_count": 10
        }
      ]
    },
    {
      "cell_type": "code",
      "source": [
        "print(grid.best_params_)\n",
        "print(grid.score(tfidf_test_text,y_test))"
      ],
      "metadata": {
        "colab": {
          "base_uri": "https://localhost:8080/"
        },
        "id": "Jfy7efWcJeHR",
        "outputId": "aace3c33-b14e-45be-e7a5-7fbe7e37fe70"
      },
      "execution_count": null,
      "outputs": [
        {
          "output_type": "stream",
          "name": "stdout",
          "text": [
            "{'C': 1, 'kernel': 'linear'}\n",
            "0.9008168028004667\n"
          ]
        }
      ]
    },
    {
      "cell_type": "code",
      "source": [
        "grid.best_score_"
      ],
      "metadata": {
        "colab": {
          "base_uri": "https://localhost:8080/"
        },
        "id": "kTJZi9A3XU7s",
        "outputId": "69015682-f54f-492f-c937-b5f2d0c2f461"
      },
      "execution_count": null,
      "outputs": [
        {
          "output_type": "execute_result",
          "data": {
            "text/plain": [
              "0.8806471962218471"
            ]
          },
          "metadata": {},
          "execution_count": 12
        }
      ]
    },
    {
      "cell_type": "code",
      "source": [
        "from sklearn.metrics import confusion_matrix"
      ],
      "metadata": {
        "id": "c6VXj2RYXNzY"
      },
      "execution_count": null,
      "outputs": []
    },
    {
      "cell_type": "code",
      "source": [
        "grid_predictions = grid.predict(tfidf_test_text)\n",
        "print(confusion_matrix(y_test,grid_predictions))\n",
        "print(classification_report(y_test,grid_predictions))#Output"
      ],
      "metadata": {
        "colab": {
          "base_uri": "https://localhost:8080/"
        },
        "id": "MjRHtYUbXGyR",
        "outputId": "1bbd99d5-e6de-4d6f-da96-38f10ee5429b"
      },
      "execution_count": null,
      "outputs": [
        {
          "output_type": "stream",
          "name": "stdout",
          "text": [
            "[[397  41]\n",
            " [ 44 375]]\n",
            "              precision    recall  f1-score   support\n",
            "\n",
            "           0       0.90      0.91      0.90       438\n",
            "           1       0.90      0.89      0.90       419\n",
            "\n",
            "    accuracy                           0.90       857\n",
            "   macro avg       0.90      0.90      0.90       857\n",
            "weighted avg       0.90      0.90      0.90       857\n",
            "\n"
          ]
        }
      ]
    },
    {
      "cell_type": "code",
      "source": [
        "dt = {'grid_predictions': grid_predictions, 'y_test': y_test}"
      ],
      "metadata": {
        "id": "iVdBoGxyXvCx"
      },
      "execution_count": null,
      "outputs": []
    },
    {
      "cell_type": "code",
      "source": [
        "dt = pd.DataFrame(dt)"
      ],
      "metadata": {
        "id": "6nTCIfv0ceMB"
      },
      "execution_count": null,
      "outputs": []
    },
    {
      "cell_type": "code",
      "source": [
        "a = []\n",
        "for i in range(len(grid_predictions)):\n",
        "  if y_test[i] == grid_predictions[i]:\n",
        "    a.append(i)"
      ],
      "metadata": {
        "id": "qLyf3_aYdKP4"
      },
      "execution_count": null,
      "outputs": []
    },
    {
      "cell_type": "code",
      "source": [
        "a = pd.DataFrame(a)"
      ],
      "metadata": {
        "id": "sS91jZRoe4YD"
      },
      "execution_count": null,
      "outputs": []
    },
    {
      "cell_type": "code",
      "source": [
        "len(y_test) - len(a)"
      ],
      "metadata": {
        "colab": {
          "base_uri": "https://localhost:8080/"
        },
        "id": "C3jnsOqCtkE6",
        "outputId": "383f4544-e316-4d6e-adbf-6e051bcb7c29"
      },
      "execution_count": null,
      "outputs": [
        {
          "output_type": "execute_result",
          "data": {
            "text/plain": [
              "85"
            ]
          },
          "metadata": {},
          "execution_count": 26
        }
      ]
    },
    {
      "cell_type": "code",
      "source": [
        "y_test[76]"
      ],
      "metadata": {
        "colab": {
          "base_uri": "https://localhost:8080/"
        },
        "id": "XsReLj0rgNpu",
        "outputId": "ffcb037f-755c-4088-a5e9-28eff3a2d863"
      },
      "execution_count": null,
      "outputs": [
        {
          "output_type": "execute_result",
          "data": {
            "text/plain": [
              "0"
            ]
          },
          "metadata": {},
          "execution_count": 82
        }
      ]
    },
    {
      "cell_type": "code",
      "source": [
        "grid_predictions[76]"
      ],
      "metadata": {
        "colab": {
          "base_uri": "https://localhost:8080/"
        },
        "id": "NA1uMpvujWQH",
        "outputId": "26144bce-0d99-4fd6-b93b-c31c2f05b0c9"
      },
      "execution_count": null,
      "outputs": [
        {
          "output_type": "execute_result",
          "data": {
            "text/plain": [
              "1"
            ]
          },
          "metadata": {},
          "execution_count": 83
        }
      ]
    },
    {
      "cell_type": "code",
      "source": [
        "a.describe()"
      ],
      "metadata": {
        "colab": {
          "base_uri": "https://localhost:8080/",
          "height": 346
        },
        "id": "HuB0YH70gDh_",
        "outputId": "1a4c53bb-4a86-4981-82ea-7708b8429b49"
      },
      "execution_count": null,
      "outputs": [
        {
          "output_type": "error",
          "ename": "TypeError",
          "evalue": "ignored",
          "traceback": [
            "\u001b[0;31m---------------------------------------------------------------------------\u001b[0m",
            "\u001b[0;31mTypeError\u001b[0m                                 Traceback (most recent call last)",
            "\u001b[0;32m<ipython-input-21-aad08ddc3c82>\u001b[0m in \u001b[0;36m<module>\u001b[0;34m\u001b[0m\n\u001b[0;32m----> 1\u001b[0;31m \u001b[0ma\u001b[0m\u001b[0;34m.\u001b[0m\u001b[0mdescribe\u001b[0m\u001b[0;34m(\u001b[0m\u001b[0;34m)\u001b[0m\u001b[0;34m\u001b[0m\u001b[0;34m\u001b[0m\u001b[0m\n\u001b[0m",
            "\u001b[0;32m/usr/local/lib/python3.7/dist-packages/pandas/core/generic.py\u001b[0m in \u001b[0;36mdescribe\u001b[0;34m(self, percentiles, include, exclude)\u001b[0m\n\u001b[1;32m   8563\u001b[0m         \u001b[0;32melif\u001b[0m \u001b[0;34m(\u001b[0m\u001b[0minclude\u001b[0m \u001b[0;32mis\u001b[0m \u001b[0;32mNone\u001b[0m\u001b[0;34m)\u001b[0m \u001b[0;32mand\u001b[0m \u001b[0;34m(\u001b[0m\u001b[0mexclude\u001b[0m \u001b[0;32mis\u001b[0m \u001b[0;32mNone\u001b[0m\u001b[0;34m)\u001b[0m\u001b[0;34m:\u001b[0m\u001b[0;34m\u001b[0m\u001b[0;34m\u001b[0m\u001b[0m\n\u001b[1;32m   8564\u001b[0m             \u001b[0;31m# when some numerics are found, keep only numerics\u001b[0m\u001b[0;34m\u001b[0m\u001b[0;34m\u001b[0m\u001b[0;34m\u001b[0m\u001b[0m\n\u001b[0;32m-> 8565\u001b[0;31m             \u001b[0mdata\u001b[0m \u001b[0;34m=\u001b[0m \u001b[0mself\u001b[0m\u001b[0;34m.\u001b[0m\u001b[0mselect_dtypes\u001b[0m\u001b[0;34m(\u001b[0m\u001b[0minclude\u001b[0m\u001b[0;34m=\u001b[0m\u001b[0;34m[\u001b[0m\u001b[0mnp\u001b[0m\u001b[0;34m.\u001b[0m\u001b[0mnumber\u001b[0m\u001b[0;34m]\u001b[0m\u001b[0;34m)\u001b[0m\u001b[0;34m\u001b[0m\u001b[0;34m\u001b[0m\u001b[0m\n\u001b[0m\u001b[1;32m   8566\u001b[0m             \u001b[0;32mif\u001b[0m \u001b[0mlen\u001b[0m\u001b[0;34m(\u001b[0m\u001b[0mdata\u001b[0m\u001b[0;34m.\u001b[0m\u001b[0mcolumns\u001b[0m\u001b[0;34m)\u001b[0m \u001b[0;34m==\u001b[0m \u001b[0;36m0\u001b[0m\u001b[0;34m:\u001b[0m\u001b[0;34m\u001b[0m\u001b[0;34m\u001b[0m\u001b[0m\n\u001b[1;32m   8567\u001b[0m                 \u001b[0mdata\u001b[0m \u001b[0;34m=\u001b[0m \u001b[0mself\u001b[0m\u001b[0;34m\u001b[0m\u001b[0;34m\u001b[0m\u001b[0m\n",
            "\u001b[0;32m/usr/local/lib/python3.7/dist-packages/pandas/core/frame.py\u001b[0m in \u001b[0;36mselect_dtypes\u001b[0;34m(self, include, exclude)\u001b[0m\n\u001b[1;32m   3075\u001b[0m         \u001b[0;31m# the \"union\" of the logic of case 1 and case 2:\u001b[0m\u001b[0;34m\u001b[0m\u001b[0;34m\u001b[0m\u001b[0;34m\u001b[0m\u001b[0m\n\u001b[1;32m   3076\u001b[0m         \u001b[0;31m# we get the included and excluded, and return their logical and\u001b[0m\u001b[0;34m\u001b[0m\u001b[0;34m\u001b[0m\u001b[0;34m\u001b[0m\u001b[0m\n\u001b[0;32m-> 3077\u001b[0;31m         \u001b[0minclude_these\u001b[0m \u001b[0;34m=\u001b[0m \u001b[0mSeries\u001b[0m\u001b[0;34m(\u001b[0m\u001b[0;32mnot\u001b[0m \u001b[0mbool\u001b[0m\u001b[0;34m(\u001b[0m\u001b[0minclude\u001b[0m\u001b[0;34m)\u001b[0m\u001b[0;34m,\u001b[0m \u001b[0mindex\u001b[0m\u001b[0;34m=\u001b[0m\u001b[0mself\u001b[0m\u001b[0;34m.\u001b[0m\u001b[0mcolumns\u001b[0m\u001b[0;34m)\u001b[0m\u001b[0;34m\u001b[0m\u001b[0;34m\u001b[0m\u001b[0m\n\u001b[0m\u001b[1;32m   3078\u001b[0m         \u001b[0mexclude_these\u001b[0m \u001b[0;34m=\u001b[0m \u001b[0mSeries\u001b[0m\u001b[0;34m(\u001b[0m\u001b[0;32mnot\u001b[0m \u001b[0mbool\u001b[0m\u001b[0;34m(\u001b[0m\u001b[0mexclude\u001b[0m\u001b[0;34m)\u001b[0m\u001b[0;34m,\u001b[0m \u001b[0mindex\u001b[0m\u001b[0;34m=\u001b[0m\u001b[0mself\u001b[0m\u001b[0;34m.\u001b[0m\u001b[0mcolumns\u001b[0m\u001b[0;34m)\u001b[0m\u001b[0;34m\u001b[0m\u001b[0;34m\u001b[0m\u001b[0m\n\u001b[1;32m   3079\u001b[0m \u001b[0;34m\u001b[0m\u001b[0m\n",
            "\u001b[0;32m/usr/local/lib/python3.7/dist-packages/pandas/core/series.py\u001b[0m in \u001b[0;36m__init__\u001b[0;34m(self, data, index, dtype, name, copy, fastpath)\u001b[0m\n\u001b[1;32m    273\u001b[0m             \u001b[0;32melse\u001b[0m\u001b[0;34m:\u001b[0m\u001b[0;34m\u001b[0m\u001b[0;34m\u001b[0m\u001b[0m\n\u001b[1;32m    274\u001b[0m                 data = _sanitize_array(data, index, dtype, copy,\n\u001b[0;32m--> 275\u001b[0;31m                                        raise_cast_failure=True)\n\u001b[0m\u001b[1;32m    276\u001b[0m \u001b[0;34m\u001b[0m\u001b[0m\n\u001b[1;32m    277\u001b[0m                 \u001b[0mdata\u001b[0m \u001b[0;34m=\u001b[0m \u001b[0mSingleBlockManager\u001b[0m\u001b[0;34m(\u001b[0m\u001b[0mdata\u001b[0m\u001b[0;34m,\u001b[0m \u001b[0mindex\u001b[0m\u001b[0;34m,\u001b[0m \u001b[0mfastpath\u001b[0m\u001b[0;34m=\u001b[0m\u001b[0;32mTrue\u001b[0m\u001b[0;34m)\u001b[0m\u001b[0;34m\u001b[0m\u001b[0;34m\u001b[0m\u001b[0m\n",
            "\u001b[0;32m/usr/local/lib/python3.7/dist-packages/pandas/core/series.py\u001b[0m in \u001b[0;36m_sanitize_array\u001b[0;34m(data, index, dtype, copy, raise_cast_failure)\u001b[0m\n\u001b[1;32m   4147\u001b[0m \u001b[0;34m\u001b[0m\u001b[0m\n\u001b[1;32m   4148\u001b[0m             subarr = construct_1d_arraylike_from_scalar(\n\u001b[0;32m-> 4149\u001b[0;31m                 value, len(index), dtype)\n\u001b[0m\u001b[1;32m   4150\u001b[0m \u001b[0;34m\u001b[0m\u001b[0m\n\u001b[1;32m   4151\u001b[0m         \u001b[0;32melse\u001b[0m\u001b[0;34m:\u001b[0m\u001b[0;34m\u001b[0m\u001b[0;34m\u001b[0m\u001b[0m\n",
            "\u001b[0;32m/usr/local/lib/python3.7/dist-packages/pandas/core/dtypes/cast.py\u001b[0m in \u001b[0;36mconstruct_1d_arraylike_from_scalar\u001b[0;34m(value, length, dtype)\u001b[0m\n\u001b[1;32m   1199\u001b[0m         \u001b[0;32mif\u001b[0m \u001b[0mis_integer_dtype\u001b[0m\u001b[0;34m(\u001b[0m\u001b[0mdtype\u001b[0m\u001b[0;34m)\u001b[0m \u001b[0;32mand\u001b[0m \u001b[0misna\u001b[0m\u001b[0;34m(\u001b[0m\u001b[0mvalue\u001b[0m\u001b[0;34m)\u001b[0m\u001b[0;34m:\u001b[0m\u001b[0;34m\u001b[0m\u001b[0;34m\u001b[0m\u001b[0m\n\u001b[1;32m   1200\u001b[0m             \u001b[0mdtype\u001b[0m \u001b[0;34m=\u001b[0m \u001b[0mnp\u001b[0m\u001b[0;34m.\u001b[0m\u001b[0mfloat64\u001b[0m\u001b[0;34m\u001b[0m\u001b[0;34m\u001b[0m\u001b[0m\n\u001b[0;32m-> 1201\u001b[0;31m         \u001b[0msubarr\u001b[0m \u001b[0;34m=\u001b[0m \u001b[0mnp\u001b[0m\u001b[0;34m.\u001b[0m\u001b[0mempty\u001b[0m\u001b[0;34m(\u001b[0m\u001b[0mlength\u001b[0m\u001b[0;34m,\u001b[0m \u001b[0mdtype\u001b[0m\u001b[0;34m=\u001b[0m\u001b[0mdtype\u001b[0m\u001b[0;34m)\u001b[0m\u001b[0;34m\u001b[0m\u001b[0;34m\u001b[0m\u001b[0m\n\u001b[0m\u001b[1;32m   1202\u001b[0m         \u001b[0msubarr\u001b[0m\u001b[0;34m.\u001b[0m\u001b[0mfill\u001b[0m\u001b[0;34m(\u001b[0m\u001b[0mvalue\u001b[0m\u001b[0;34m)\u001b[0m\u001b[0;34m\u001b[0m\u001b[0;34m\u001b[0m\u001b[0m\n\u001b[1;32m   1203\u001b[0m \u001b[0;34m\u001b[0m\u001b[0m\n",
            "\u001b[0;31mTypeError\u001b[0m: Cannot interpret '<attribute 'dtype' of 'numpy.generic' objects>' as a data type"
          ]
        }
      ]
    },
    {
      "cell_type": "code",
      "source": [
        "## confusion matrix\n",
        "conf_mat_n=confusion_matrix(y_test, grid_predictions)\n",
        "print(\"Confusion matrix is \\n\",conf_mat_n)\n",
        "\n",
        "## plotting confusion matrix\n",
        "plt.figure(figsize=(7,7))\n",
        "plt.title(\"Logistic Regression CM\")\n",
        "sns.heatmap(conf_mat_n, square=True,cmap=\"YlGnBu\",annot=True,fmt='d')\n",
        "plt.xlabel('Predicted')\n",
        "plt.ylabel('Actual')"
      ],
      "metadata": {
        "colab": {
          "base_uri": "https://localhost:8080/",
          "height": 480
        },
        "id": "yZQLRRnLnMJ-",
        "outputId": "8117bbf6-3d20-4be7-fea7-fb5ce01a1d95"
      },
      "execution_count": null,
      "outputs": [
        {
          "output_type": "stream",
          "name": "stdout",
          "text": [
            "Confusion matrix is \n",
            " [[397  41]\n",
            " [ 44 375]]\n"
          ]
        },
        {
          "output_type": "execute_result",
          "data": {
            "text/plain": [
              "Text(42.0, 0.5, 'Actual')"
            ]
          },
          "metadata": {},
          "execution_count": 16
        },
        {
          "output_type": "display_data",
          "data": {
            "text/plain": [
              "<Figure size 504x504 with 2 Axes>"
            ],
            "image/png": "[encoded data removed]"
          },
          "metadata": {
            "needs_background": "light"
          }
        }
      ]
    },
    {
      "cell_type": "markdown",
      "source": [
        "## GRID 2"
      ],
      "metadata": {
        "id": "PaIzcwVWv9q5"
      }
    },
    {
      "cell_type": "code",
      "source": [
        "param_grid2 = {'C': [0.001, 0.01, 0.1, 1, 10, 100, 1000],'kernel': ['linear']}"
      ],
      "metadata": {
        "id": "WZB-HplEX232"
      },
      "execution_count": null,
      "outputs": []
    },
    {
      "cell_type": "code",
      "source": [
        "grid2 = GridSearchCV(SVC(),param_grid2,refit=True, cv =10, verbose=3)\n",
        "grid2.fit(tfidf_train_text,y_train)"
      ],
      "metadata": {
        "colab": {
          "base_uri": "https://localhost:8080/"
        },
        "id": "XErQ0Wq6wPcL",
        "outputId": "0bb46d39-dee3-4f9c-9057-78576d219891"
      },
      "execution_count": null,
      "outputs": [
        {
          "output_type": "stream",
          "name": "stdout",
          "text": [
            "Fitting 10 folds for each of 7 candidates, totalling 70 fits\n",
            "[CV 1/10] END ...........C=0.001, kernel=linear;, score=0.513 total time=   0.8s\n",
            "[CV 2/10] END ...........C=0.001, kernel=linear;, score=0.513 total time=   0.8s\n",
            "[CV 3/10] END ...........C=0.001, kernel=linear;, score=0.510 total time=   0.8s\n",
            "[CV 4/10] END ...........C=0.001, kernel=linear;, score=0.510 total time=   0.8s\n",
            "[CV 5/10] END ...........C=0.001, kernel=linear;, score=0.510 total time=   0.8s\n",
            "[CV 6/10] END ...........C=0.001, kernel=linear;, score=0.510 total time=   0.8s\n",
            "[CV 7/10] END ...........C=0.001, kernel=linear;, score=0.510 total time=   0.8s\n",
            "[CV 8/10] END ...........C=0.001, kernel=linear;, score=0.512 total time=   0.8s\n",
            "[CV 9/10] END ...........C=0.001, kernel=linear;, score=0.512 total time=   0.8s\n",
            "[CV 10/10] END ..........C=0.001, kernel=linear;, score=0.512 total time=   0.8s\n",
            "[CV 1/10] END ............C=0.01, kernel=linear;, score=0.513 total time=   0.8s\n",
            "[CV 2/10] END ............C=0.01, kernel=linear;, score=0.513 total time=   0.8s\n",
            "[CV 3/10] END ............C=0.01, kernel=linear;, score=0.510 total time=   0.8s\n",
            "[CV 4/10] END ............C=0.01, kernel=linear;, score=0.510 total time=   0.8s\n",
            "[CV 5/10] END ............C=0.01, kernel=linear;, score=0.510 total time=   0.8s\n",
            "[CV 6/10] END ............C=0.01, kernel=linear;, score=0.510 total time=   0.8s\n",
            "[CV 7/10] END ............C=0.01, kernel=linear;, score=0.510 total time=   0.8s\n",
            "[CV 8/10] END ............C=0.01, kernel=linear;, score=0.512 total time=   0.8s\n",
            "[CV 9/10] END ............C=0.01, kernel=linear;, score=0.512 total time=   0.8s\n",
            "[CV 10/10] END ...........C=0.01, kernel=linear;, score=0.512 total time=   0.8s\n",
            "[CV 1/10] END .............C=0.1, kernel=linear;, score=0.828 total time=   0.8s\n",
            "[CV 2/10] END .............C=0.1, kernel=linear;, score=0.805 total time=   0.8s\n",
            "[CV 3/10] END .............C=0.1, kernel=linear;, score=0.848 total time=   0.8s\n",
            "[CV 4/10] END .............C=0.1, kernel=linear;, score=0.813 total time=   0.8s\n",
            "[CV 5/10] END .............C=0.1, kernel=linear;, score=0.860 total time=   0.8s\n",
            "[CV 6/10] END .............C=0.1, kernel=linear;, score=0.773 total time=   0.8s\n",
            "[CV 7/10] END .............C=0.1, kernel=linear;, score=0.825 total time=   0.8s\n",
            "[CV 8/10] END .............C=0.1, kernel=linear;, score=0.804 total time=   0.8s\n",
            "[CV 9/10] END .............C=0.1, kernel=linear;, score=0.827 total time=   0.8s\n",
            "[CV 10/10] END ............C=0.1, kernel=linear;, score=0.813 total time=   1.1s\n",
            "[CV 1/10] END ...............C=1, kernel=linear;, score=0.872 total time=   0.9s\n",
            "[CV 2/10] END ...............C=1, kernel=linear;, score=0.875 total time=   0.7s\n",
            "[CV 3/10] END ...............C=1, kernel=linear;, score=0.880 total time=   0.8s\n",
            "[CV 4/10] END ...............C=1, kernel=linear;, score=0.895 total time=   0.6s\n",
            "[CV 5/10] END ...............C=1, kernel=linear;, score=0.892 total time=   0.6s\n",
            "[CV 6/10] END ...............C=1, kernel=linear;, score=0.886 total time=   0.6s\n",
            "[CV 7/10] END ...............C=1, kernel=linear;, score=0.886 total time=   0.6s\n",
            "[CV 8/10] END ...............C=1, kernel=linear;, score=0.877 total time=   0.6s\n",
            "[CV 9/10] END ...............C=1, kernel=linear;, score=0.895 total time=   0.6s\n",
            "[CV 10/10] END ..............C=1, kernel=linear;, score=0.848 total time=   0.6s\n",
            "[CV 1/10] END ..............C=10, kernel=linear;, score=0.845 total time=   0.8s\n",
            "[CV 2/10] END ..............C=10, kernel=linear;, score=0.866 total time=   0.9s\n",
            "[CV 3/10] END ..............C=10, kernel=linear;, score=0.869 total time=   0.8s\n",
            "[CV 4/10] END ..............C=10, kernel=linear;, score=0.878 total time=   0.8s\n",
            "[CV 5/10] END ..............C=10, kernel=linear;, score=0.869 total time=   0.8s\n",
            "[CV 6/10] END ..............C=10, kernel=linear;, score=0.848 total time=   0.8s\n",
            "[CV 7/10] END ..............C=10, kernel=linear;, score=0.857 total time=   0.7s\n",
            "[CV 8/10] END ..............C=10, kernel=linear;, score=0.868 total time=   0.8s\n",
            "[CV 9/10] END ..............C=10, kernel=linear;, score=0.839 total time=   0.8s\n",
            "[CV 10/10] END .............C=10, kernel=linear;, score=0.857 total time=   0.8s\n",
            "[CV 1/10] END .............C=100, kernel=linear;, score=0.857 total time=   0.7s\n",
            "[CV 2/10] END .............C=100, kernel=linear;, score=0.869 total time=   0.8s\n",
            "[CV 3/10] END .............C=100, kernel=linear;, score=0.875 total time=   0.8s\n",
            "[CV 4/10] END .............C=100, kernel=linear;, score=0.869 total time=   0.7s\n",
            "[CV 5/10] END .............C=100, kernel=linear;, score=0.869 total time=   0.7s\n",
            "[CV 6/10] END .............C=100, kernel=linear;, score=0.851 total time=   0.7s\n",
            "[CV 7/10] END .............C=100, kernel=linear;, score=0.848 total time=   0.7s\n",
            "[CV 8/10] END .............C=100, kernel=linear;, score=0.863 total time=   0.8s\n",
            "[CV 9/10] END .............C=100, kernel=linear;, score=0.839 total time=   0.8s\n",
            "[CV 10/10] END ............C=100, kernel=linear;, score=0.854 total time=   0.7s\n",
            "[CV 1/10] END ............C=1000, kernel=linear;, score=0.857 total time=   0.7s\n",
            "[CV 2/10] END ............C=1000, kernel=linear;, score=0.869 total time=   0.7s\n",
            "[CV 3/10] END ............C=1000, kernel=linear;, score=0.875 total time=   0.8s\n",
            "[CV 4/10] END ............C=1000, kernel=linear;, score=0.869 total time=   0.7s\n",
            "[CV 5/10] END ............C=1000, kernel=linear;, score=0.869 total time=   0.7s\n",
            "[CV 6/10] END ............C=1000, kernel=linear;, score=0.851 total time=   0.7s\n",
            "[CV 7/10] END ............C=1000, kernel=linear;, score=0.848 total time=   0.7s\n",
            "[CV 8/10] END ............C=1000, kernel=linear;, score=0.863 total time=   0.8s\n",
            "[CV 9/10] END ............C=1000, kernel=linear;, score=0.839 total time=   0.8s\n",
            "[CV 10/10] END ...........C=1000, kernel=linear;, score=0.854 total time=   0.8s\n"
          ]
        },
        {
          "output_type": "execute_result",
          "data": {
            "text/plain": [
              "GridSearchCV(cv=10, estimator=SVC(),\n",
              "             param_grid={'C': [0.001, 0.01, 0.1, 1, 10, 100, 1000],\n",
              "                         'kernel': ['linear']},\n",
              "             verbose=3)"
            ]
          },
          "metadata": {},
          "execution_count": 10
        }
      ]
    },
    {
      "cell_type": "code",
      "source": [
        "print(grid2.best_params_)\n",
        "print(grid2.score(tfidf_test_text,y_test))"
      ],
      "metadata": {
        "colab": {
          "base_uri": "https://localhost:8080/"
        },
        "id": "MIpLk1p0wiZX",
        "outputId": "48270e2d-d329-4d21-f916-3100b28651a4"
      },
      "execution_count": null,
      "outputs": [
        {
          "output_type": "stream",
          "name": "stdout",
          "text": [
            "{'C': 1, 'kernel': 'linear'}\n",
            "0.9008168028004667\n"
          ]
        }
      ]
    },
    {
      "cell_type": "code",
      "source": [
        "from sklearn.metrics import confusion_matrix"
      ],
      "metadata": {
        "id": "jSq5_MypwlXt"
      },
      "execution_count": null,
      "outputs": []
    },
    {
      "cell_type": "code",
      "source": [
        "grid_predictions = grid.predict(tfidf_test_text)\n",
        "print(confusion_matrix(y_test,grid_predictions))\n",
        "print(classification_report(y_test,grid_predictions))#Output"
      ],
      "metadata": {
        "id": "SKMqQXuMwneC"
      },
      "execution_count": null,
      "outputs": []
    }
  ]
}